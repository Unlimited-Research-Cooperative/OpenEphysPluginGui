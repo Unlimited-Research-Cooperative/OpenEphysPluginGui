{
 "cells": [
  {
   "cell_type": "code",
   "execution_count": null,
   "id": "a89356d3-1498-4c5c-a384-214fde20656a",
   "metadata": {},
   "outputs": [],
   "source": [
    "import zmq\n",
    "import time\n",
    "import re\n",
    "\n",
    "context = zmq.Context()\n",
    "socket = context.socket(zmq.SUB)\n",
    "socket.connect(\"tcp://localhost:5555\")\n",
    "socket.setsockopt_string(zmq.SUBSCRIBE, '')\n",
    "\n",
    "print(\"Subscriber is now listening for messages...\")\n",
    "\n",
    "try:\n",
    "    while True:\n",
    "        message = socket.recv_string()\n",
    "        print(\"Received message:\", message)\n",
    "\n",
    "        # Extract timestamp from the message using a regular expression\n",
    "        match = re.search(r\"Timestamp: (\\d+\\.\\d+)\", message)\n",
    "        if match:\n",
    "            timestamp = float(match.group(1))\n",
    "            current_time = time.time() * 1000  # Convert to milliseconds\n",
    "\n",
    "            # Calculate the time difference\n",
    "            time_difference = current_time - timestamp\n",
    "            print(\"Time difference:\", time_difference, \"ms\")\n",
    "        else:\n",
    "            print(\"Timestamp not found in message\")\n",
    "\n",
    "except KeyboardInterrupt:\n",
    "    print(\"Subscriber is closing...\")\n",
    "    socket.close()\n",
    "    context.term()\n",
    "\n"
   ]
  }
 ],
 "metadata": {
  "kernelspec": {
   "display_name": "Python 3 (ipykernel)",
   "language": "python",
   "name": "python3"
  },
  "language_info": {
   "codemirror_mode": {
    "name": "ipython",
    "version": 3
   },
   "file_extension": ".py",
   "mimetype": "text/x-python",
   "name": "python",
   "nbconvert_exporter": "python",
   "pygments_lexer": "ipython3",
   "version": "3.10.12"
  }
 },
 "nbformat": 4,
 "nbformat_minor": 5
}
